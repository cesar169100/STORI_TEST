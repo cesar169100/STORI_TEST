{
 "cells": [
  {
   "cell_type": "code",
   "execution_count": 1,
   "metadata": {},
   "outputs": [],
   "source": [
    "import pandas as pd\n",
    "df = pd.read_csv('./data/data.csv')\n",
    "df = df.drop(['Unnamed: 0'], axis=1)\n",
    "df['activated_date'] = pd.to_datetime(df['activated_date'])\n",
    "df['last_payment_date'] = pd.to_datetime(df['last_payment_date'])\n",
    "# I assume that days<0 means that it is a reactivated credit\n",
    "df['days'] = (df['last_payment_date'] - df['activated_date']).dt.days\n",
    "df = df.drop(['cust_id','activated_date','last_payment_date','oneoff_purchases','purchases_installments_frequency'], axis=1)\n",
    "X = df.drop(['fraud'], axis=1)\n",
    "y = df['fraud']\n",
    "# X.head(5)\n"
   ]
  },
  {
   "cell_type": "code",
   "execution_count": null,
   "metadata": {},
   "outputs": [],
   "source": [
    "# Un par de modelos de deteccion de outliers\n",
    "from sklearn.ensemble import IsolationForest\n",
    "from sklearn.neighbors import LocalOutlierFactor\n",
    "from sklearn.impute import SimpleImputer\n",
    "\n",
    "impute = SimpleImputer(strategy='median')\n",
    "X_impute = impute.fit_transform(X) \n",
    "X = pd.DataFrame(X_impute, columns=X.columns, index=X.index)\n",
    "# Isolation Forest (Aislamiento)\n",
    "iso_forest = IsolationForest(contamination=0.05, random_state=42)\n",
    "X['IF_outlier'] = iso_forest.fit_predict(X)\n",
    "\n",
    "# Local Outlier Factor (puntos de densidad local baja)\n",
    "lof = LocalOutlierFactor(n_neighbors=20, contamination=0.05)\n",
    "X['LOF_outlier'] = lof.fit_predict(X)\n",
    "\n",
    "X[['IF_outlier', 'LOF_outlier']].head(10)\n"
   ]
  },
  {
   "cell_type": "code",
   "execution_count": null,
   "metadata": {},
   "outputs": [],
   "source": [
    "from sklearn.model_selection import learning_curve, train_test_split\n",
    "from sklearn.linear_model import LogisticRegression\n",
    "from sklearn.impute import SimpleImputer\n",
    "import numpy as np\n",
    "\n",
    "# Crear el modelo\n",
    "# model = LogisticRegression(C=0.1, penalty='l1', max_iter=100, \n",
    "#                            solver='liblinear', random_state=42, class_weight='balanced')\n",
    "\n",
    "model = LogisticRegression()\n",
    "impute = SimpleImputer(strategy='median')\n",
    "X_impute = impute.fit_transform(X) \n",
    "X = pd.DataFrame(X_impute, columns=X.columns, index=X.index)\n",
    "# Obtener la curva de aprendizaje. train_sizes=np.linspace(0.1, 1.0, 10) asegura una distribución uniforme\n",
    "# de tamaños entre el 10% y el 100% del conjunto de entrenamiento total\n",
    "train_sizes, train_scores, validation_scores = learning_curve(\n",
    "    model, X, y, train_sizes=np.linspace(0.1, 1.0, 10), cv=10, scoring='f1', n_jobs=-1 )\n",
    "\n",
    "train_scores_mean = train_scores.mean(axis=1)\n",
    "validation_scores_mean = validation_scores.mean(axis=1)\n",
    "print(train_scores_mean)\n",
    "print(validation_scores_mean)\n"
   ]
  },
  {
   "cell_type": "code",
   "execution_count": null,
   "metadata": {},
   "outputs": [],
   "source": [
    "import matplotlib.pyplot as plt\n",
    "\n",
    "plt.plot(train_sizes, train_scores_mean, label='f1 de Entrenamiento')\n",
    "plt.plot(train_sizes, validation_scores_mean, label='f1 de Validación')\n",
    "plt.ylabel('Valor del f1')\n",
    "plt.xlabel('Tamaño del conjunto de entrenamiento')\n",
    "plt.title('Curva de Aprendizaje')\n",
    "plt.legend()\n",
    "plt.show()"
   ]
  },
  {
   "cell_type": "code",
   "execution_count": null,
   "metadata": {},
   "outputs": [],
   "source": [
    "from sklearn.ensemble import BaggingRegressor\n",
    "from sklearn.linear_model import LogisticRegression, Ridge\n",
    "from sklearn.model_selection import learning_curve, train_test_split\n",
    "from sklearn.metrics import mean_squared_error\n",
    "\n",
    "\n",
    "base_model = Ridge()\n",
    "\n",
    "# Bagging sobre el modelo base con subconjuntos de features\n",
    "bagging_model = BaggingRegressor( # BaggingClassifier si es clasificacion\n",
    "    base_estimator=base_model,\n",
    "    max_features=0.8,  # Proporción de features para cada subconjunto\n",
    "    max_samples=0.8,   # Proporción de datos de muestra\n",
    "    random_state=42,\n",
    "    n_estimators=10    # Numero de regresores ridge\n",
    ")\n",
    "\n",
    "X_train, X_test, y_train, y_test = train_test_split(X, y, test_size=0.20, random_state=42)\n",
    "best = bagging_model.fit(X_train, y_train)\n",
    "y_pred = best.predict(X_test)\n",
    "mean_squared_error(y_test, y_pred)"
   ]
  }
 ],
 "metadata": {
  "kernelspec": {
   "display_name": "venv",
   "language": "python",
   "name": "python3"
  },
  "language_info": {
   "codemirror_mode": {
    "name": "ipython",
    "version": 3
   },
   "file_extension": ".py",
   "mimetype": "text/x-python",
   "name": "python",
   "nbconvert_exporter": "python",
   "pygments_lexer": "ipython3",
   "version": "3.8.10"
  }
 },
 "nbformat": 4,
 "nbformat_minor": 2
}
